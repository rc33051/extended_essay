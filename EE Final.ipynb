{
 "cells": [
  {
   "cell_type": "code",
   "execution_count": 1,
   "metadata": {
    "collapsed": true,
    "slideshow": {
     "slide_type": "-"
    }
   },
   "outputs": [],
   "source": [
    "%matplotlib notebook\n",
    "\n",
    "import numpy as np\n",
    "import astropy.units as u\n",
    "from astropy import time\n",
    "from astropy.time import Time\n",
    "from astropy.time import TimeDelta\n",
    "from astropy.coordinates import solar_system_ephemeris\n",
    "from poliastro import iod\n",
    "from poliastro.bodies import Sun\n",
    "from poliastro.twobody import Orbit\n",
    "from poliastro.ephem import get_body_ephem\n",
    "from poliastro.constants import GM_mars, GM_earth, R_mars, R_earth\n",
    "from timeit import default_timer as timer\n",
    "\n",
    "\n",
    "solar_system_ephemeris.set(\"jpl\")\n",
    "\n",
    "\n",
    "def velocity(number):\n",
    "    start = timer()\n",
    "    DeltaDL = 0\n",
    "    y = []\n",
    "    z = []\n",
    "    q = 0\n",
    "    f = 0    \n",
    "    flight_1 = []\n",
    "    flight_2 = []\n",
    "    dvbudget = (number/1000) * u.km / u.s # determines delta V in km/s\n",
    "    date_launch_1 = time.Time('2017-08-1 12:00', scale='utc')\n",
    "    \n",
    "    # to Mars\n",
    "    \n",
    "    for DeltaDL in range (0, 360, 8):  # h gives the range of loop\n",
    "        \n",
    "        DeltaL = TimeDelta(DeltaDL, format = 'jd') # l gives the change in arrival date\n",
    "        date_launch = date_launch_1 + DeltaL # sets time of arrival\n",
    "        \n",
    "        \n",
    "        \n",
    "        for tof in range(70, 270, 8): # range of tof loop\n",
    "        \n",
    "            TOF = TimeDelta(tof, format='jd')\n",
    "            date_arrival = date_launch + TOF # sets time of launch\n",
    "            timeMiss = TimeDelta(240, format='sec') # corresponds to miss distance\n",
    "        \n",
    "            r0, vv_e = get_body_ephem(\"earth\", date_launch) \n",
    "            vv_e  = vv_e.to(u.km / u.second)\n",
    "            rf, vv_m = get_body_ephem(\"mars\", (date_arrival + timeMiss)) \n",
    "            vv_m  = vv_m.to(u.km / u.second)\n",
    "            #planet velocity and position vecors\n",
    "            \n",
    "            (va, vb), = iod.lambert(Sun.k, r0, rf, TOF) # solving LAMBERT'S PROBLEM\n",
    "            ss0_trans = Orbit.from_vectors(Sun, r0, va, date_launch) # creating orbit         \n",
    "            incl = ss0_trans.inc # inclination\n",
    "            e = ss0_trans.ecc    # eccentricity\n",
    "            a = ss0_trans.a      # semimajor axis\n",
    "            \n",
    "            # accounting for Earth Orbit\n",
    "            v_1 = va - vv_e\n",
    "            dv1 = np.sqrt(v_1.dot(v_1)) # magnitude                    \n",
    "            radius_E_i = (R_earth.value + 200*1000)\n",
    "            v_parking_E  = np.sqrt(GM_earth.value/radius_E_i)*(u.m/u.s) #velocity in parking orbit\n",
    "            v_hyperbolic_E = np.sqrt((dv1.value*1000)**2+(2*GM_earth.value)/(radius_E_i))*(u.m/u.s) \n",
    "            dv_1 = v_hyperbolic_E - v_parking_E \n",
    "            Real_Delta_v_E =  dv_1\n",
    "            # = delta v accounting for change in incl\n",
    "            \n",
    "            \n",
    "            # accounting for Mars Orbit\n",
    "            v_2 = vv_m - vb\n",
    "            dv2 = np.sqrt(v_2.dot(v_2)) #magnitudes        \n",
    "            Radius_Parking_M = (R_mars.value + 250*1000)\n",
    "            v_parking_M  = np.sqrt(GM_mars.value/ Radius_Parking_M )*u.m/u.s\n",
    "            v_hyperbolic_M = np.sqrt((dv2.value*1000)**2+(2*GM_mars.value)/( Radius_Parking_M ))*u.m/u.s\n",
    "            dv_2 = v_hyperbolic_M - v_parking_M #delta v to get in circular orbit\n",
    "            M_Hyperbolic_incl = np.sin(incl/4)**2\n",
    "            Real_Delta_v_M =  np.sqrt(dv_2**2+(4*v_parking_M*v_hyperbolic_M*M_Hyperbolic_incl))\n",
    "                                      \n",
    "            tdv = (  Real_Delta_v_E + Real_Delta_v_M )\n",
    "            q += 1\n",
    "            print(q,end='\\r')\n",
    "            \n",
    "            if (dvbudget - (5750 *  u.m / u.s) )  >= tdv:\n",
    "                y = np.array([date_launch, TOF, tdv])\n",
    "                flight_1 = np.append(flight_1,[y[:]])         \n",
    "    \n",
    "    velocity.flight_1 = flight_1    \n",
    "    end = timer()\n",
    "    print(end - start)\n",
    "    \n",
    "    \n",
    "    # to Earth  \n",
    "    for WaitTime in range(0, 150, 8):\n",
    "        WT = TimeDelta(WaitTime, format = 'jd')\n",
    "        date_launch_2 = time.Time('2018-05-01 12:00', scale='utc') + WT\n",
    "\n",
    "        for tof2 in range(70, 270, 8):\n",
    "\n",
    "            TOF_2 = TimeDelta(tof2, format='jd')\n",
    "            date_arrival_2 = date_launch_2 + TOF_2\n",
    "            timeMiss_2 = TimeDelta(240, format='sec')                        \n",
    "\n",
    "\n",
    "            r0_2, vv_m_2 = get_body_ephem(\"mars\", date_launch_2) \n",
    "            vv_m_2  = vv_m_2.to(u.km / u.second)\n",
    "            rf_2, vv_e_2 = get_body_ephem(\"earth\", (date_arrival_2 + timeMiss_2)) \n",
    "            vv_e_2  = vv_e_2.to(u.km / u.second)\n",
    "            #planet velocity and position vecors\n",
    "\n",
    "            (va_2, vb_2), = iod.lambert(Sun.k, r0_2, rf_2, TOF_2) # solving LAMBERT'S PROBLEM\n",
    "            ss0_trans_2 = Orbit.from_vectors(Sun, r0_2, va_2, date_launch_2) # creating orbit         \n",
    "            incl_2 = ss0_trans_2.inc # inclination\n",
    "            e_2 = ss0_trans_2.ecc    # eccentricity\n",
    "            a_2 = ss0_trans_2.a      # semimajor axis\n",
    "\n",
    "\n",
    "\n",
    "            # accounting for Mars Orbit\n",
    "            v_3 = vv_m_2 - va_2\n",
    "            dv3 = np.sqrt(v_3.dot(v_3)) # magnitude                    \n",
    "            radius_M_i = (R_mars.value + 150*1000)\n",
    "            v_parking_M_2  = np.sqrt(GM_mars.value/radius_M_i)*(u.m/u.s) #velocity in parking orbit\n",
    "            v_hyperbolic_M_2 = np.sqrt((dv3.value*1000)**2+(2*GM_mars.value)/(radius_M_i))*(u.m/u.s) \n",
    "            dv_3 = v_hyperbolic_M_2 - v_parking_M_2            \n",
    "            M_Hyperbolic_incl_2 = np.sin(incl_2/4)**2 \n",
    "            Real_Delta_v_M_2 =  np.sqrt(dv_3**2+(4*v_parking_M_2*v_hyperbolic_M_2*M_Hyperbolic_incl_2))\n",
    "            # = delta v accounting for change in incl\n",
    "\n",
    "\n",
    "            # accounting for Earth Orbit\n",
    "            v_4 = vb_2 - vv_e_2 \n",
    "            dv4 = np.sqrt(v_4.dot(v_4)) #magnitudes        \n",
    "            Radius_Parking_E = (R_earth.value + 200*1000)\n",
    "            v_parking_E_2  = np.sqrt(GM_earth.value/ Radius_Parking_E )*u.m/u.s\n",
    "            v_hyperbolic_E_2 = np.sqrt((dv4.value*1000)**2+(2*GM_earth.value)/( Radius_Parking_E ))*u.m/u.s\n",
    "            dv_4 = v_hyperbolic_E_2 - v_parking_E_2 #delta v to get in circular orbit\n",
    "            Real_Delta_v_E_2 =  dv_4\n",
    "\n",
    "            tdv_2 = Real_Delta_v_E_2 + Real_Delta_v_M_2\n",
    "            f += 1\n",
    "            print(f,end='\\r')\n",
    "            \n",
    "            if (dvbudget - (6150 *  u.m / u.s) )  >= tdv_2:\n",
    "                z = np.array([date_launch_2, TOF_2, tdv_2])\n",
    "                flight_2 = np.append(flight_2,[z[:]])\n",
    "                \n",
    "    end = timer()\n",
    "    print(end - start)\n",
    "    \n",
    "    \n",
    "    velocity.flight_2 = flight_2"
   ]
  },
  {
   "cell_type": "code",
   "execution_count": 2,
   "metadata": {},
   "outputs": [
    {
     "name": "stdout",
     "output_type": "stream",
     "text": [
      "23.33340702113129\n",
      "26.63772723145732\n"
     ]
    }
   ],
   "source": [
    "velocity(21000)"
   ]
  },
  {
   "cell_type": "code",
   "execution_count": 46,
   "metadata": {},
   "outputs": [],
   "source": [
    "def linkvectors(vect_1, vect_2):\n",
    "    \n",
    "    vect_1 = vect_1.reshape( int((vect_1.size)/3) , 3)\n",
    "    vect_1 =  vect_1[np.argsort(vect_1[:,0])]    \n",
    "    vect_2 = vect_2.reshape( int((vect_2.size)/3) , 3)\n",
    "    vect_2 =  vect_2[np.argsort(vect_2[:,0])]\n",
    "    print(vect_1[0,0])\n",
    "    print(vect_2[0,0])\n",
    "    v1 = []\n",
    "    v2 = []\n",
    "    q = 0   \n",
    "    a = False\n",
    "    b = False\n",
    "    k = 0\n",
    "    start = timer()\n",
    "    \n",
    "    k = (vect_2.size*vect_1.size)/9\n",
    "    print(k)\n",
    "    \n",
    "    for x in range (0, int((vect_2.size)/3), 1):\n",
    "        v2 = np.append(v2,[vect_2[x,:]])\n",
    "            \n",
    "\n",
    "         \n",
    "    if len(v2) == False:\n",
    "        print(\"no results\")\n",
    "        return\n",
    "        \n",
    "    v2 = v2.reshape( int((v2.size)/3) , 3)            \n",
    "    \n",
    "    for y in range(0, int((v2.size)/3), 1):\n",
    "        for z in range(0, int((vect_1.size)/3), 1):\n",
    "            a = False\n",
    "            b = False\n",
    "            q += 1            \n",
    "            pause = timer()\n",
    "           \n",
    "            print(q/k*100, end = '\\r')\n",
    "           \n",
    "            \n",
    "            if (( v2[y,0] - TimeDelta(20, format = 'jd') ) >= (vect_1[z,0] + vect_1[z,1])) == True:\n",
    "                a = True\n",
    "               \n",
    "            if a & (( v2[y,0] - TimeDelta(100, format = 'jd') ) <= (vect_1[z,0] + vect_1[z,1])) == True:\n",
    "                b = True\n",
    "                \n",
    "            if b & (( v2[y,2] + vect_1[z,2]) <= 21 * u.km / u.s) == True:\n",
    "                \n",
    "                deltav = v2[y,2] + vect_1[z,2]\n",
    "                WT = v2[y,0] - (vect_1[z,0] + vect_1[z,1])\n",
    "                # Wait Time = date_launch_2 - (date_launch_1 + tof_1)\n",
    "\n",
    "                TotTime = vect_1[z,1] + WT + v2[y,1]\n",
    "                # tof_1 + WT + tof_2\n",
    "                v1 = np.append(v1,[v2[y,:],vect_1[z,:], WT, TotTime, deltav])\n",
    "    \n",
    "    print(\"..............................................\")\n",
    "    \n",
    "    \n",
    "    if len(v1) != 0:\n",
    "        v1 = v1.reshape( int((v1.size)/5) , 5)\n",
    "        v1 =  v1[np.argsort(v1[:,3])]        \n",
    "        print(\"finished\")\n",
    "        end = timer()\n",
    "        print(end-start)\n",
    "    else:\n",
    "        print(\"no results\")\n",
    "        return\n",
    "    \n",
    "    linkvectors.v1 = v1"
   ]
  },
  {
   "cell_type": "code",
   "execution_count": 47,
   "metadata": {
    "scrolled": true
   },
   "outputs": [
    {
     "name": "stdout",
     "output_type": "stream",
     "text": [
      "2017-08-09 12:00:00.000\n",
      "2018-05-01 12:00:00.000\n",
      "214620.0\n",
      "0.5013512254216754 %%%%% %"
     ]
    },
    {
     "ename": "KeyboardInterrupt",
     "evalue": "",
     "output_type": "error",
     "traceback": [
      "\u001b[1;31m---------------------------------------------------------------------------\u001b[0m",
      "\u001b[1;31mKeyboardInterrupt\u001b[0m                         Traceback (most recent call last)",
      "\u001b[1;32m<ipython-input-47-aeb1a30669aa>\u001b[0m in \u001b[0;36m<module>\u001b[1;34m()\u001b[0m\n\u001b[1;32m----> 1\u001b[1;33m \u001b[0mlinkvectors\u001b[0m\u001b[1;33m(\u001b[0m\u001b[0mvelocity\u001b[0m\u001b[1;33m.\u001b[0m\u001b[0mflight_1\u001b[0m\u001b[1;33m,\u001b[0m \u001b[0mvelocity\u001b[0m\u001b[1;33m.\u001b[0m\u001b[0mflight_2\u001b[0m\u001b[1;33m)\u001b[0m\u001b[1;33m\u001b[0m\u001b[0m\n\u001b[0m",
      "\u001b[1;32m<ipython-input-46-77136d56a007>\u001b[0m in \u001b[0;36mlinkvectors\u001b[1;34m(vect_1, vect_2)\u001b[0m\n\u001b[0;32m     36\u001b[0m             \u001b[0mpause\u001b[0m \u001b[1;33m=\u001b[0m \u001b[0mtimer\u001b[0m\u001b[1;33m(\u001b[0m\u001b[1;33m)\u001b[0m\u001b[1;33m\u001b[0m\u001b[0m\n\u001b[0;32m     37\u001b[0m \u001b[1;33m\u001b[0m\u001b[0m\n\u001b[1;32m---> 38\u001b[1;33m             \u001b[0mprint\u001b[0m\u001b[1;33m(\u001b[0m\u001b[0mq\u001b[0m\u001b[1;33m/\u001b[0m\u001b[0mk\u001b[0m\u001b[1;33m*\u001b[0m\u001b[1;36m100\u001b[0m\u001b[1;33m,\u001b[0m\u001b[1;34m\"%\"\u001b[0m\u001b[1;33m,\u001b[0m \u001b[0mend\u001b[0m \u001b[1;33m=\u001b[0m \u001b[1;34m'\\r'\u001b[0m\u001b[1;33m)\u001b[0m\u001b[1;33m\u001b[0m\u001b[0m\n\u001b[0m\u001b[0;32m     39\u001b[0m \u001b[1;33m\u001b[0m\u001b[0m\n\u001b[0;32m     40\u001b[0m \u001b[1;33m\u001b[0m\u001b[0m\n",
      "\u001b[1;32mC:\\Users\\ericr\\Anaconda3\\lib\\site-packages\\ipykernel\\iostream.py\u001b[0m in \u001b[0;36mwrite\u001b[1;34m(self, string)\u001b[0m\n\u001b[0;32m    350\u001b[0m             \u001b[0mis_child\u001b[0m \u001b[1;33m=\u001b[0m \u001b[1;33m(\u001b[0m\u001b[1;32mnot\u001b[0m \u001b[0mself\u001b[0m\u001b[1;33m.\u001b[0m\u001b[0m_is_master_process\u001b[0m\u001b[1;33m(\u001b[0m\u001b[1;33m)\u001b[0m\u001b[1;33m)\u001b[0m\u001b[1;33m\u001b[0m\u001b[0m\n\u001b[0;32m    351\u001b[0m             \u001b[1;31m# only touch the buffer in the IO thread to avoid races\u001b[0m\u001b[1;33m\u001b[0m\u001b[1;33m\u001b[0m\u001b[0m\n\u001b[1;32m--> 352\u001b[1;33m             \u001b[0mself\u001b[0m\u001b[1;33m.\u001b[0m\u001b[0mpub_thread\u001b[0m\u001b[1;33m.\u001b[0m\u001b[0mschedule\u001b[0m\u001b[1;33m(\u001b[0m\u001b[1;32mlambda\u001b[0m \u001b[1;33m:\u001b[0m \u001b[0mself\u001b[0m\u001b[1;33m.\u001b[0m\u001b[0m_buffer\u001b[0m\u001b[1;33m.\u001b[0m\u001b[0mwrite\u001b[0m\u001b[1;33m(\u001b[0m\u001b[0mstring\u001b[0m\u001b[1;33m)\u001b[0m\u001b[1;33m)\u001b[0m\u001b[1;33m\u001b[0m\u001b[0m\n\u001b[0m\u001b[0;32m    353\u001b[0m             \u001b[1;32mif\u001b[0m \u001b[0mis_child\u001b[0m\u001b[1;33m:\u001b[0m\u001b[1;33m\u001b[0m\u001b[0m\n\u001b[0;32m    354\u001b[0m                 \u001b[1;31m# newlines imply flush in subprocesses\u001b[0m\u001b[1;33m\u001b[0m\u001b[1;33m\u001b[0m\u001b[0m\n",
      "\u001b[1;32mC:\\Users\\ericr\\Anaconda3\\lib\\site-packages\\ipykernel\\iostream.py\u001b[0m in \u001b[0;36mschedule\u001b[1;34m(self, f)\u001b[0m\n\u001b[0;32m    188\u001b[0m                 \u001b[0mevent_id\u001b[0m \u001b[1;33m=\u001b[0m \u001b[0mos\u001b[0m\u001b[1;33m.\u001b[0m\u001b[0murandom\u001b[0m\u001b[1;33m(\u001b[0m\u001b[1;36m16\u001b[0m\u001b[1;33m)\u001b[0m\u001b[1;33m\u001b[0m\u001b[0m\n\u001b[0;32m    189\u001b[0m             \u001b[0mself\u001b[0m\u001b[1;33m.\u001b[0m\u001b[0m_events\u001b[0m\u001b[1;33m[\u001b[0m\u001b[0mevent_id\u001b[0m\u001b[1;33m]\u001b[0m \u001b[1;33m=\u001b[0m \u001b[0mf\u001b[0m\u001b[1;33m\u001b[0m\u001b[0m\n\u001b[1;32m--> 190\u001b[1;33m             \u001b[0mself\u001b[0m\u001b[1;33m.\u001b[0m\u001b[0m_event_pipe\u001b[0m\u001b[1;33m.\u001b[0m\u001b[0msend\u001b[0m\u001b[1;33m(\u001b[0m\u001b[0mevent_id\u001b[0m\u001b[1;33m)\u001b[0m\u001b[1;33m\u001b[0m\u001b[0m\n\u001b[0m\u001b[0;32m    191\u001b[0m         \u001b[1;32melse\u001b[0m\u001b[1;33m:\u001b[0m\u001b[1;33m\u001b[0m\u001b[0m\n\u001b[0;32m    192\u001b[0m             \u001b[0mf\u001b[0m\u001b[1;33m(\u001b[0m\u001b[1;33m)\u001b[0m\u001b[1;33m\u001b[0m\u001b[0m\n",
      "\u001b[1;32mzmq/backend/cython/socket.pyx\u001b[0m in \u001b[0;36mzmq.backend.cython.socket.Socket.send (zmq\\backend\\cython\\socket.c:7305)\u001b[1;34m()\u001b[0m\n",
      "\u001b[1;32mzmq/backend/cython/socket.pyx\u001b[0m in \u001b[0;36mzmq.backend.cython.socket.Socket.send (zmq\\backend\\cython\\socket.c:7048)\u001b[1;34m()\u001b[0m\n",
      "\u001b[1;32mzmq/backend/cython/socket.pyx\u001b[0m in \u001b[0;36mzmq.backend.cython.socket._send_copy (zmq\\backend\\cython\\socket.c:2920)\u001b[1;34m()\u001b[0m\n",
      "\u001b[1;32mC:\\Users\\ericr\\Anaconda3\\lib\\site-packages\\zmq\\backend\\cython\\checkrc.pxd\u001b[0m in \u001b[0;36mzmq.backend.cython.checkrc._check_rc (zmq\\backend\\cython\\socket.c:9621)\u001b[1;34m()\u001b[0m\n",
      "\u001b[1;31mKeyboardInterrupt\u001b[0m: "
     ]
    }
   ],
   "source": [
    "linkvectors(velocity.flight_1, velocity.flight_2)"
   ]
  },
  {
   "cell_type": "code",
   "execution_count": 119,
   "metadata": {
    "scrolled": true
   },
   "outputs": [
    {
     "data": {
      "text/plain": [
       "12515"
      ]
     },
     "execution_count": 119,
     "metadata": {},
     "output_type": "execute_result"
    }
   ],
   "source": []
  },
  {
   "cell_type": "code",
   "execution_count": null,
   "metadata": {
    "collapsed": true
   },
   "outputs": [],
   "source": []
  },
  {
   "cell_type": "code",
   "execution_count": null,
   "metadata": {
    "collapsed": true
   },
   "outputs": [],
   "source": []
  },
  {
   "cell_type": "code",
   "execution_count": null,
   "metadata": {
    "collapsed": true
   },
   "outputs": [],
   "source": []
  }
 ],
 "metadata": {
  "kernelspec": {
   "display_name": "Python 3",
   "language": "python",
   "name": "python3"
  },
  "language_info": {
   "codemirror_mode": {
    "name": "ipython",
    "version": 3
   },
   "file_extension": ".py",
   "mimetype": "text/x-python",
   "name": "python",
   "nbconvert_exporter": "python",
   "pygments_lexer": "ipython3",
   "version": "3.6.1"
  }
 },
 "nbformat": 4,
 "nbformat_minor": 2
}
